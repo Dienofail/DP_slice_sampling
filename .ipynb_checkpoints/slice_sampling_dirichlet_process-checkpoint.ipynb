{
 "cells": [
  {
   "cell_type": "markdown",
   "metadata": {},
   "source": [
    "# A (definitely buggy) implementation of a MDP Splice Sampler from Walker 2007. \n"
   ]
  },
  {
   "cell_type": "markdown",
   "metadata": {},
   "source": [
    "By Alvin Shi. There are probably a bunch of bugs. Please report them :D"
   ]
  },
  {
   "cell_type": "code",
   "execution_count": 3,
   "metadata": {
    "collapsed": true
   },
   "outputs": [],
   "source": [
    "from __future__ import division\n",
    "import matplotlib.pyplot as plt\n",
    "import numpy as np\n",
    "import pandas as pd\n",
    "import math\n",
    "from sklearn.mixture import GMM\n",
    "import scipy.stats as stats\n",
    "from scipy.stats import gamma, norm, uniform\n",
    "from functools import partial\n",
    "from scipy.special import gamma\n",
    "%matplotlib inline\n",
    "def lambda_to_std(_lambda): #function for converting lambdas given in the Walker paper for usage in generation of random variates\n",
    "    return 1/(np.sqrt(_lambda))\n",
    "    \n",
    "def count_unique(val, vec): #simple function to count unique occurrences \n",
    "    counter = 0\n",
    "    for _val in vec:\n",
    "        if val == _val:\n",
    "            counter += 1\n",
    "    return counter \n",
    "\n",
    "\n",
    "def movingaverage(interval, window_size): #plotting auxiliary function \n",
    "    window = np.ones(int(window_size))/float(window_size)\n",
    "    return np.convolve(interval, window, 'same')\n",
    "\n",
    "def runningMeanFast(x, N): #plotting auxiliary function\n",
    "    return np.convolve(x, np.ones((N,))/N)[(N-1):]\n",
    "    \n",
    "np.random.seed(1234)"
   ]
  },
  {
   "cell_type": "markdown",
   "metadata": {},
   "source": [
    "First, we want to generate the test data, Gaussian Mixture Models that Walker uses. Let $$f(y) = \\frac{1}{3} N(y \\mid -4, 1) + \\frac{1}{3} N(y \\mid 0, 1) + \\frac{1}{3} N(y \\mid 8, 1) $$ \n",
    "We can use sci-kit learn's GMM library to simulate the draws as follows:"
   ]
  },
  {
   "cell_type": "code",
   "execution_count": 5,
   "metadata": {
    "collapsed": false
   },
   "outputs": [
    {
     "data": {
      "text/plain": [
       "<matplotlib.text.Text at 0x7ffa035f9bd0>"
      ]
     },
     "execution_count": 5,
     "metadata": {},
     "output_type": "execute_result"
    },
    {
     "data": {
      "image/png": "[encoded data removed]",
      "text/plain": [
       "<matplotlib.figure.Figure at 0x7ffa0e2e3a90>"
      ]
     },
     "metadata": {},
     "output_type": "display_data"
    }
   ],
   "source": [
    "gmm = GMM(3, n_iter=1)\n",
    "gmm.means_ = np.array([[-4], [0], [8]])\n",
    "gmm.covars_ = np.array([[1], [1], [1]]) ** 2\n",
    "gmm.weights_ = np.array([0.334, 0.333, 0.333])\n",
    "Y = gmm.sample(50)\n",
    "Y = Y.flatten()\n",
    "plt.clf()\n",
    "plt.hist(Y, bins= 35)\n",
    "plt.title('Simulated Distribution of Y')\n",
    "plt.xlabel('Y value')\n",
    "plt.ylabel('Counts')"
   ]
  },
  {
   "cell_type": "markdown",
   "metadata": {},
   "source": [
    "Now, we will walk through a single round of the Splice Sampling. First, we need to initalize values for our latent variables.\n",
    "\n",
    "Let's walk through the initialization of variables for the $\\theta = (\\mu_j, \\sigma^2)$ first. Walker describes the conditional distributions for $\\mu_j$ and $\\lambda_j$ as follows:\n",
    "\n",
    "$$f(\\mu_j \\mid \\ldots) = N\\left( \\frac{\\xi_j \\lambda_j}{m_j \\lambda_j + s},  \\frac{1}{m_j \\lambda_j + s} \\right)$$\n",
    "\n",
    "Walker gives prior values for $\\mu_j \\sim N(0, 1/s)$, and $\\lambda \\sim N(\\epsilon, \\epsilon)$. The values for his particular example are $\\epsilon = 0.5$ and $s = 0.1$. We will initalize these below. \n",
    "\n",
    "There is also a prior on $c$ ($\\alpha$ in previous schemes), it is given as $c \\sim Gamma(a = 0.1, b = 0.1)$. We will declare those as well. \n",
    "\n",
    "Finally, using the notation from Escobar and West (1995), which Walker references for inference of $c$, we need to initalize a latent variable $\\nu$ (which is $\\eta$ in their notation) to assist with inference of $c$. Escobar and West don't really reference how $\\nu$ is initalized, but we know it's distributed according to $\\nu \\sim Beta(c+1, n)$, where $n$ is the number of observed values in $Y$, so we will just randomly initalize a value from this distribution.\n",
    "\n",
    "I'll also initalize $c$ as 1. Again, it's possible to alternatively specify it as being drawn from $Gamma(0.1,0.1)$, that alternative is commented out."
   ]
  },
  {
   "cell_type": "code",
   "execution_count": 7,
   "metadata": {
    "collapsed": true
   },
   "outputs": [],
   "source": [
    "epsilon = 0.5\n",
    "s = 0.1\n",
    "s_inv = 1/s\n",
    "s_sqrt = np.sqrt(s_inv) #easier for generation with numpy.random.normal later, since we have to specify the standard deviation\n",
    "a = 0.1 \n",
    "b = 0.1 \n",
    "c = 1\n",
    "#c = np.random.gamma(0.1, 0.1)\n",
    "nu = np.random.beta(c+1, len(Y))"
   ]
  },
  {
   "cell_type": "markdown",
   "metadata": {},
   "source": [
    "Next we initalize our weights $w$, our cluster assiginments (and total number of clusters) $z$, our stick breaking measures $v$, and our initial $\\theta = (\\mu, \\lambda)$. There are several ways to initalize $w$ and $k$. It's not specificed in Walker how they chose these initial values. I'll start with $k = 1$ and $w$ drawn randomly from $Beta(1, c)$. \n",
    "\n",
    "First stick-breaking value $v_0$ is equal to $w_0$.\n",
    "\n"
   ]
  },
  {
   "cell_type": "code",
   "execution_count": 8,
   "metadata": {
    "collapsed": true
   },
   "outputs": [],
   "source": [
    "#initalize first weights\n",
    "w = []\n",
    "w.append(np.random.beta(1, c))\n",
    "\n",
    "v = []\n",
    "v.append(w[0])\n",
    "#initalize first mu (cluster mean)\n",
    "mus = []\n",
    "mus.append(np.random.normal(0, s_sqrt))\n",
    "\n",
    "#initalize first lambda (inverse sigma^2)\n",
    "lambdas = []\n",
    "lambdas.append(np.random.gamma(epsilon,1/epsilon))\n",
    "stds = [] #to keep track of actual sigma generated\n",
    "stds.append(lambda_to_std(lambdas[0]))\n",
    "z = np.zeros(len(Y)) #cluster assignments\n",
    "u = np.zeros(len(Y))\n",
    "active_ks = []\n",
    "total_ks = []\n",
    "total_cs = []"
   ]
  },
  {
   "cell_type": "markdown",
   "metadata": {},
   "source": [
    "One particular problem I had is with the parameterization of $Gamma$ in the Walker paper. \n",
    "\n",
    "The Gamma distribution can be parameterized either with a shape parameter $k$ and a scale parameter $\\theta$, or alternatively with a shape parameter $\\alpha = k$ and a rate parameter $\\beta = 1 / \\theta$. \n",
    "\n",
    "In Bayesian settings (according to wikipedia), the shape and rate $(\\alpha, \\beta)$ parameterization is most often used. However, Escobar and West (1995) use  $(k, \\theta)$, shape and scale, instead.  \n",
    "\n",
    "For reasons that will be clear in a few minutes, I'll assume that Walker uses the $Gamma(\\alpha, \\beta)$ parameterization, and Escobar and West uses $Gamma(k, \\theta)$. \n",
    "\n",
    "Note that numpy.random.gamma uses the $k, \\theta$ notation, so i'll be inverting most of the 2nd parameters in Walker."
   ]
  },
  {
   "cell_type": "markdown",
   "metadata": {},
   "source": [
    "## One iteration of slice sampling"
   ]
  },
  {
   "cell_type": "markdown",
   "metadata": {},
   "source": [
    "Let's do the first step of slice sampling. We first want to initalize our auxiliary variable $u$. Recall the step for generating this is given below:\n",
    "\n",
    "For $i=1 \\dots n$, pick $u_i \\sim U(0,w_{k_i})$, choose $u^* = min\\{u_1 \\dots u_n\\}$\n",
    "\n",
    "Where $n$ is the number of observations in $Y$ "
   ]
  },
  {
   "cell_type": "code",
   "execution_count": 14,
   "metadata": {
    "collapsed": false
   },
   "outputs": [
    {
     "name": "stdout",
     "output_type": "stream",
     "text": [
      "0.0084831435529\n"
     ]
    },
    {
     "data": {
      "image/png": "[encoded data removed]",
      "text/plain": [
       "<matplotlib.figure.Figure at 0x7ffa03404250>"
      ]
     },
     "metadata": {},
     "output_type": "display_data"
    }
   ],
   "source": [
    "    u = np.zeros(len(Y))\n",
    "    for idx, val in enumerate(Y):\n",
    "        cluster_label = int(z[idx]) #vector z holds all the current cluster assignments indexed 0...k-1\n",
    "        u[idx] = np.random.uniform(0, w[cluster_label]) #we can fetch the current w_k from the w vector, with same indexing scheme as k\n",
    "    #min u \n",
    "    u_star = np.min(u)\n",
    "    plt.hist(u, bins=25)\n",
    "    plt.title('Distribution of u')\n",
    "    print u_star"
   ]
  },
  {
   "cell_type": "markdown",
   "metadata": {},
   "source": [
    "Now let's do the next step, which is: \n",
    "\n",
    "Create new components through stick breaking until we have $k^*$\n",
    "\n",
    "To do this, we can re-formulate the equation:\n",
    "$$\\sum_{j=1}^{k^*} w_j > 1-u^*$$\n",
    "\n",
    "We can re-arrange to derive, $\\beta^*$, which is $1 - \\sum_{j=1}^{k^*} w_j$. Now we see that the above condition is now:\n",
    "\n",
    "$$u^* > \\sum_{j=1}^{k^*} w_j$$\n",
    "$$u^* > \\beta^*$$\n",
    "So while this above expression is not true, we need to generate more components $k$ until we reach $k^*$.\n",
    "\n",
    "For each new $k$ that is generated, we can draw the corresponding $\\theta = (u, \\sigma^2)$ values straight from the priors specified earlier\n",
    "\n",
    "The stick-breaking lengths corresponding to each new segment is  generated as \n",
    "\n",
    "$$v_{k} = Beta(1, c)$$\n"
   ]
  },
  {
   "cell_type": "code",
   "execution_count": 16,
   "metadata": {
    "collapsed": false
   },
   "outputs": [],
   "source": [
    "    beta_star = 1 - np.sum(w)\n",
    "\n",
    "    while (beta_star >= u_star): #generate a new k while this condition is true\n",
    "        _vk = np.random.beta(1, c)\n",
    "        beta_k = _vk * beta_star\n",
    "        \n",
    "        #append beta_k to the weights\n",
    "        w.append(beta_k)\n",
    "            \n",
    "        #append _vk to v\n",
    "        v.append(_vk)\n",
    "        \n",
    "        #append new mu to mus \n",
    "        mus.append(np.random.normal(0, s_sqrt)) #draw from our prior N(0, 1/s)\n",
    "        \n",
    "        #append new lambda to lambda\n",
    "        new_lambd = np.random.gamma(epsilon, 1/epsilon) #draw from Gamma(epsilon, epsilon)\n",
    "        lambdas.append(new_lambd)\n",
    "\n",
    "        \n",
    "        #finally update beta_star\n",
    "        beta_star = beta_star*(1 -_vk)"
   ]
  },
  {
   "cell_type": "markdown",
   "metadata": {},
   "source": [
    "We can check that $\\beta^*$ is now below $u^*$. \n",
    "\n",
    "Additionally, we can inspect the number of instantiated components"
   ]
  },
  {
   "cell_type": "code",
   "execution_count": 22,
   "metadata": {
    "collapsed": false
   },
   "outputs": [
    {
     "name": "stdout",
     "output_type": "stream",
     "text": [
      "Beta star is 0.00723562694353\n",
      "u star is 0.0084831435529\n",
      "Number of instianted components is  12\n",
      "sample means for each new cluster\n",
      "[3.492266298341146, -1.3646793921728757, 1.2455967035219233, -3.004244525275804, -0.7536826018453914, 6.110083861132122, 1.1252617123250122, -4.016293364696706, -2.227040515635054, -0.7604725536515271, -2.3670532248556673, -0.3419210395158843]\n",
      "lambdas for each new cluster\n",
      "[3.4345549702195637, 0.23871155605118105, 3.027268816411562, 0.003181411490288357, 0.057300934106158954, 0.02540565665622101, 3.4984740178777405, 1.125634821233331, 1.303443874982055, 0.35296367601129747, 2.002011176727681, 0.3827998157092762]\n",
      "Sigma (translated lambda)\n",
      "[0.53959108303488057, 2.0467428321026926, 0.57474407963608243, 17.729238296788047, 4.1775258805120616, 6.2738594866053212, 0.53463904647809823, 0.94254314735205402, 0.87589860001920239, 1.6831971731006614, 0.7067515199234734, 1.6162708486473381]\n"
     ]
    }
   ],
   "source": [
    "print \"Beta star is\", beta_star\n",
    "print \"u star is\" , u_star\n",
    "print \"Number of instianted components is \" , len(w)\n",
    "print \"sample means for each new cluster\"\n",
    "print mus\n",
    "print \"lambdas for each new cluster\"\n",
    "print lambdas\n",
    "#convert lambdas to sigmas\n",
    "sigma = [lambda_to_std(x) for x in lambdas]\n",
    "print \"Sigma (translated lambda)\"\n",
    "print sigma"
   ]
  },
  {
   "cell_type": "markdown",
   "metadata": {},
   "source": [
    "Now that we have the optimal number of potential components $k^*$, we can start assigning our observed points in $Y$ to these clusters. \n",
    "\n",
    "This is given by the following equation: \n",
    "\n",
    "$$ p(\\delta_i  = k| y_i, u_i, w, \\theta) \\propto  1{\\{k:w_k > u^* \\}}P(y_i|\\theta_k)$$\n",
    "\n",
    "It's perhaps easier to express this as:\n",
    "\n",
    "$$ p(\\delta_i  = k| y_i, u_i, w, \\theta) \\propto \\begin{cases} N(y_{i} \\mid \\theta_k) & \\text{if } w_k \\geq u_{i} \\\\ 0 & \\text{otherwise} \\end{cases}$$\n",
    "\n",
    "We'll use the scipy normal distribution to generate the pdf for each $Y_{i}$ for each cluster. We can then renormalize these weights and draw from this discrete distribution use scipy custom r.v. object. These assignments will form the new $z$"
   ]
  },
  {
   "cell_type": "code",
   "execution_count": 23,
   "metadata": {
    "collapsed": false
   },
   "outputs": [
    {
     "name": "stdout",
     "output_type": "stream",
     "text": [
      "[ 0.  0.  3.  3.  0.  1.  0.  3.  0.  0.  0.  0.  0.  3.  0.  0.  3.  0.\n",
      "  0.  0.  0.  0.  0.  0.  3.  0.  0.  2.  0.  3.  3.  0.  1.  0.  0.  0.\n",
      "  3.  3.  0.  0.  3.  0.  3.  0.  0.  0.  2.  2.  0.  0.]\n"
     ]
    }
   ],
   "source": [
    "    assert len(w) == len(mus)\n",
    "    assert len(w) == len(lambdas)\n",
    "    \n",
    "    #now we get the cluster assignments z for each observation\n",
    "    for y_idx , y_val in enumerate(Y):\n",
    "        z_probs = np.zeros(len(w)) #initalize placeholder for new zs\n",
    "        for cluster_idx, mu in enumerate(mus):\n",
    "            if w[cluster_idx] > u[y_idx]:\n",
    "                z_probs[cluster_idx] = norm.pdf(y_val, loc = mu, scale = lambda_to_std(lambdas[cluster_idx]))\n",
    "            else:\n",
    "                z_probs[cluster_idx] = 0\n",
    "        #sample cluster assignments\n",
    "        norm_z_probs = z_probs / np.sum(z_probs) #normalize and feed into a discrete r.v.\n",
    "        z_sampler = stats.rv_discrete(name = \"z_sampler\", values = (np.arange(len(z_probs)), norm_z_probs))\n",
    "        z_assignment = z_sampler.rvs()\n",
    "        z[y_idx] = z_assignment #grab z_assignment\n",
    "        #print \"%i\\t%0.03f\\t%0.03f\\t%0.03f\\t%i\"%(y_idx, y_val, mu_)\n",
    "    \n",
    "    z_ints = [int(x) for x in z] #make z ints for easier use in future \n",
    "    print z"
   ]
  },
  {
   "cell_type": "markdown",
   "metadata": {},
   "source": [
    "We can see how the cluster assignments turned out. We don't expect these to be great. "
   ]
  },
  {
   "cell_type": "code",
   "execution_count": 26,
   "metadata": {
    "collapsed": false
   },
   "outputs": [
    {
     "data": {
      "text/plain": [
       "<matplotlib.text.Text at 0x7ffa02e72690>"
      ]
     },
     "execution_count": 26,
     "metadata": {},
     "output_type": "execute_result"
    },
    {
     "data": {
      "image/png": "[encoded data removed]",
      "text/plain": [
       "<matplotlib.figure.Figure at 0x7ffa02cc5e10>"
      ]
     },
     "metadata": {},
     "output_type": "display_data"
    }
   ],
   "source": [
    "plt.scatter(z, Y)\n",
    "plt.title('Cluster assignment vs Y value')\n",
    "plt.xlabel('Cluster assignment')\n",
    "plt.ylabel('Y value')"
   ]
  },
  {
   "cell_type": "markdown",
   "metadata": {},
   "source": [
    "As we observe here, we only used 4 of the 12 total possible $k^*$. This is perhaps a downside of $Y$, in the sense that our \"dynamic truncation\" is potentially causing us to waste computational resources to sample $w_k$ and calculate $p(\\delta_{i} \\mid \\ldots)$ for a large number of clusters that we may not necessarily care about."
   ]
  },
  {
   "cell_type": "markdown",
   "metadata": {},
   "source": [
    "Next, let's update our $\\theta$. This involves updating $\\mu$ and $\\lambda$. We know that the updates (from Walker section 4) to be:\n",
    "\n",
    "\n",
    "\n",
    "$$f(\\mu_j \\mid \\ldots) = N\\left( \\frac{\\xi_j \\lambda_j}{m_j \\lambda_j + s},  \\frac{1}{m_j \\lambda_j + s} \\right)$$\n",
    "\n",
    "\n",
    "$$"
   ]
  }
 ],
 "metadata": {
  "kernelspec": {
   "display_name": "Python 2",
   "language": "python",
   "name": "python2"
  },
  "language_info": {
   "codemirror_mode": {
    "name": "ipython",
    "version": 2
   },
   "file_extension": ".py",
   "mimetype": "text/x-python",
   "name": "python",
   "nbconvert_exporter": "python",
   "pygments_lexer": "ipython2",
   "version": "2.7.11"
  }
 },
 "nbformat": 4,
 "nbformat_minor": 0
}
