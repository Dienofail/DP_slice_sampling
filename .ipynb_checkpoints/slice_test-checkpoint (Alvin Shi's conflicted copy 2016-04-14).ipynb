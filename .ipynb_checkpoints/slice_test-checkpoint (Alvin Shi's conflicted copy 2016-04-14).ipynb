{
 "cells": [
  {
   "cell_type": "code",
   "execution_count": 14,
   "metadata": {
    "collapsed": false
   },
   "outputs": [],
   "source": [
    "from __future__ import division\n",
    "import os\n",
    "import sys\n",
    "import glob\n",
    "import matplotlib.pyplot as plt\n",
    "import numpy as np\n",
    "import pandas as pd\n",
    "from sklearn.mixture import GMM\n",
    "\n",
    "%matplotlib inline\n",
    "%precision 4\n",
    "plt.style.use('ggplot')\n",
    "\n",
    "from mpl_toolkits.mplot3d import Axes3D\n",
    "import scipy.stats as stats\n",
    "from functools import partial\n",
    "\n",
    "np.random.seed(1234)"
   ]
  },
  {
   "cell_type": "code",
   "execution_count": 13,
   "metadata": {
    "collapsed": false
   },
   "outputs": [
    {
     "data": {
      "text/plain": [
       "(array([ 1.,  2.,  2.,  1.,  4.,  1.,  0.,  1.,  1.,  0.,  0.,  0.,  0.,\n",
       "         0.,  0.,  3.,  2.,  1.,  3.,  2.,  1.,  1.,  0.,  0.,  1.,  1.,\n",
       "         0.,  1.,  1.,  0.,  0.,  0.,  0.,  0.,  0.,  1.,  0.,  0.,  1.,\n",
       "         1.,  0.,  2.,  2.,  4.,  4.,  0.,  2.,  1.,  0.,  2.]),\n",
       " array([-5.6233, -5.3219, -5.0205, -4.7191, -4.4177, -4.1164, -3.815 ,\n",
       "        -3.5136, -3.2122, -2.9108, -2.6094, -2.308 , -2.0066, -1.7052,\n",
       "        -1.4038, -1.1024, -0.801 , -0.4996, -0.1982,  0.1032,  0.4045,\n",
       "         0.7059,  1.0073,  1.3087,  1.6101,  1.9115,  2.2129,  2.5143,\n",
       "         2.8157,  3.1171,  3.4185,  3.7199,  4.0213,  4.3227,  4.6241,\n",
       "         4.9255,  5.2268,  5.5282,  5.8296,  6.131 ,  6.4324,  6.7338,\n",
       "         7.0352,  7.3366,  7.638 ,  7.9394,  8.2408,  8.5422,  8.8436,\n",
       "         9.145 ,  9.4464]),\n",
       " <a list of 50 Patch objects>)"
      ]
     },
     "execution_count": 13,
     "metadata": {},
     "output_type": "execute_result"
    },
    {
     "data": {
      "image/png": "[encoded data removed]",
      "text/plain": [
       "<matplotlib.figure.Figure at 0x7fbea5d9f1d0>"
      ]
     },
     "metadata": {},
     "output_type": "display_data"
    }
   ],
   "source": [
    "gmm = GMM(3, n_iter=1)\n",
    "gmm.means_ = np.array([[-4], [0], [8]])\n",
    "gmm.covars_ = np.array([[1], [1], [1]]) ** 2\n",
    "gmm.weights_ = np.array([0.334, 0.333, 0.333])\n",
    "\n",
    "X = gmm.sample(50)\n",
    "plt.hist(X, bins = 50)"
   ]
  },
  {
   "cell_type": "code",
   "execution_count": 15,
   "metadata": {
    "collapsed": true
   },
   "outputs": [],
   "source": [
    "epsilon = 0.5\n",
    "s = 0.1\n",
    "c = stats.gamma()"
   ]
  },
  {
   "cell_type": "code",
   "execution_count": 16,
   "metadata": {
    "collapsed": false
   },
   "outputs": [
    {
     "ename": "TypeError",
     "evalue": "rvs() got an unexpected keyword argument 'scale'",
     "output_type": "error",
     "traceback": [
      "\u001b[1;31m---------------------------------------------------------------------------\u001b[0m",
      "\u001b[1;31mTypeError\u001b[0m                                 Traceback (most recent call last)",
      "\u001b[1;32m<ipython-input-16-47972daacd04>\u001b[0m in \u001b[0;36m<module>\u001b[1;34m()\u001b[0m\n\u001b[1;32m----> 1\u001b[1;33m \u001b[0mc\u001b[0m\u001b[1;33m.\u001b[0m\u001b[0mrvs\u001b[0m\u001b[1;33m(\u001b[0m\u001b[0mscale\u001b[0m\u001b[1;33m=\u001b[0m\u001b[1;36m10\u001b[0m\u001b[1;33m)\u001b[0m\u001b[1;33m\u001b[0m\u001b[0m\n\u001b[0m",
      "\u001b[1;31mTypeError\u001b[0m: rvs() got an unexpected keyword argument 'scale'"
     ]
    }
   ],
   "source": []
  },
  {
   "cell_type": "code",
   "execution_count": null,
   "metadata": {
    "collapsed": true
   },
   "outputs": [],
   "source": []
  }
 ],
 "metadata": {
  "kernelspec": {
   "display_name": "Python 2",
   "language": "python",
   "name": "python2"
  },
  "language_info": {
   "codemirror_mode": {
    "name": "ipython",
    "version": 2
   },
   "file_extension": ".py",
   "mimetype": "text/x-python",
   "name": "python",
   "nbconvert_exporter": "python",
   "pygments_lexer": "ipython2",
   "version": "2.7.11"
  }
 },
 "nbformat": 4,
 "nbformat_minor": 0
}
