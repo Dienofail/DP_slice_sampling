{
 "cells": [
  {
   "cell_type": "markdown",
   "metadata": {},
   "source": [
    "# A (definitely buggy) implementation of a MDP Splice Sampler from Walker 2007. \n"
   ]
  },
  {
   "cell_type": "markdown",
   "metadata": {},
   "source": [
    "By Alvin Shi. There are probably a bunch of bugs. Please report them :D"
   ]
  },
  {
   "cell_type": "code",
   "execution_count": 3,
   "metadata": {
    "collapsed": true
   },
   "outputs": [],
   "source": [
    "from __future__ import division\n",
    "import matplotlib.pyplot as plt\n",
    "import numpy as np\n",
    "import pandas as pd\n",
    "import math\n",
    "from sklearn.mixture import GMM\n",
    "import scipy.stats as stats\n",
    "from scipy.stats import gamma, norm, uniform\n",
    "from functools import partial\n",
    "from scipy.special import gamma\n",
    "%matplotlib inline\n",
    "def lambda_to_std(_lambda): #function for converting lambdas given in the Walker paper for usage in generation of random variates\n",
    "    return 1/(np.sqrt(_lambda))\n",
    "    \n",
    "def count_unique(val, vec): #simple function to count unique occurrences \n",
    "    counter = 0\n",
    "    for _val in vec:\n",
    "        if val == _val:\n",
    "            counter += 1\n",
    "    return counter \n",
    "\n",
    "\n",
    "def movingaverage(interval, window_size): #plotting auxiliary function \n",
    "    window = np.ones(int(window_size))/float(window_size)\n",
    "    return np.convolve(interval, window, 'same')\n",
    "\n",
    "def runningMeanFast(x, N): #plotting auxiliary function\n",
    "    return np.convolve(x, np.ones((N,))/N)[(N-1):]\n",
    "    \n",
    "np.random.seed(1234)"
   ]
  },
  {
   "cell_type": "markdown",
   "metadata": {},
   "source": [
    "First, we want to generate the test data, Gaussian Mixture Models that Walker uses. Let $$f(y) = \\frac{1}{3} N(y \\mid -4, 1) + \\frac{1}{3} N(y \\mid 0, 1) + \\frac{1}{3} N(y \\mid 8, 1) $$ \n",
    "We can use sci-kit learn's GMM library to simulate the draws as follows:"
   ]
  },
  {
   "cell_type": "code",
   "execution_count": 5,
   "metadata": {
    "collapsed": false
   },
   "outputs": [
    {
     "data": {
      "text/plain": [
       "<matplotlib.text.Text at 0x7ffa035f9bd0>"
      ]
     },
     "execution_count": 5,
     "metadata": {},
     "output_type": "execute_result"
    },
    {
     "data": {
      "image/png": "[encoded data removed]",
      "text/plain": [
       "<matplotlib.figure.Figure at 0x7ffa0e2e3a90>"
      ]
     },
     "metadata": {},
     "output_type": "display_data"
    }
   ],
   "source": [
    "gmm = GMM(3, n_iter=1)\n",
    "gmm.means_ = np.array([[-4], [0], [8]])\n",
    "gmm.covars_ = np.array([[1], [1], [1]]) ** 2\n",
    "gmm.weights_ = np.array([0.334, 0.333, 0.333])\n",
    "Y = gmm.sample(50)\n",
    "Y = Y.flatten()\n",
    "plt.clf()\n",
    "plt.hist(Y, bins= 35)\n",
    "plt.title('Simulated Distribution of Y')\n",
    "plt.xlabel('Y value')\n",
    "plt.ylabel('Counts')"
   ]
  },
  {
   "cell_type": "markdown",
   "metadata": {},
   "source": [
    "Now, we will walk through a single round of the Splice Sampling. First, we need to initalize values for our latent variables.\n",
    "\n",
    "Let's walk through the initialization of variables for the $\\theta = (\\mu_j, \\sigma^2)$ first. Walker describes the conditional distributions for $\\mu_j$ and $\\lambda_j$ as follows:\n",
    "\n",
    "$$f(\\mu_j \\mid \\ldots) = N\\left( \\frac{\\xi_j \\lambda_j}{m_j \\lambda_j + s},  \\frac{1}{m_j \\lambda_j + s} \\right)$$\n",
    "\n",
    "Walker gives prior values for $\\mu_j \\sim N(0, 1/s)$, and $\\lambda \\sim N(\\epsilon, \\epsilon)$. The values for his particular example are $\\epsilon = 0.5$ and $s = 0.1$. We will initalize these below. \n",
    "\n",
    "There is also a prior on $c$ ($\\alpha$ in previous schemes), it is given as $c \\sim Gamma(a = 0.1, b = 0.1)$. We will declare those as well. \n",
    "\n",
    "Finally, using the notation from Escobar and West (1995), which Walker references for inference of $c$, we need to initalize a latent variable $\\nu$ (which is $\\eta$ in their notation) to assist with inference of $c$. Escobar and West don't really reference how $\\nu$ is initalized, but we know it's distributed according to $\\nu \\sim Beta(c+1, n)$, where $n$ is the number of observed values in $Y$, so we will just randomly initalize a value from this distribution.\n",
    "\n",
    "I'll also initalize $c$ as 1. Again, it's possible to alternatively specify it as being drawn from $Gamma(0.1,0.1)$, that alternative is commented out."
   ]
  },
  {
   "cell_type": "code",
   "execution_count": 7,
   "metadata": {
    "collapsed": true
   },
   "outputs": [],
   "source": [
    "epsilon = 0.5\n",
    "s = 0.1\n",
    "s_inv = 1/s\n",
    "s_sqrt = np.sqrt(s_inv) #easier for generation with numpy.random.normal later, since we have to specify the standard deviation\n",
    "a = 0.1 \n",
    "b = 0.1 \n",
    "c = 1\n",
    "#c = np.random.gamma(0.1, 0.1)\n",
    "nu = np.random.beta(c+1, len(Y))"
   ]
  },
  {
   "cell_type": "markdown",
   "metadata": {},
   "source": [
    "Next we initalize our weights $w$, our cluster assiginments (and total number of clusters) $z$, our stick breaking measures $v$, and our initial $\\theta = (\\mu, \\lambda)$. There are several ways to initalize $w$ and $k$. It's not specificed in Walker how they chose these initial values. I'll start with $k = 1$ and $w$ drawn randomly from $Beta(1, c)$. \n",
    "\n",
    "First stick-breaking value $v_0$ is equal to $w_0$.\n",
    "\n"
   ]
  },
  {
   "cell_type": "code",
   "execution_count": 8,
   "metadata": {
    "collapsed": true
   },
   "outputs": [],
   "source": [
    "#initalize first weights\n",
    "w = []\n",
    "w.append(np.random.beta(1, c))\n",
    "\n",
    "v = []\n",
    "v.append(w[0])\n",
    "#initalize first mu (cluster mean)\n",
    "mus = []\n",
    "mus.append(np.random.normal(0, s_sqrt))\n",
    "\n",
    "#initalize first lambda (inverse sigma^2)\n",
    "lambdas = []\n",
    "lambdas.append(np.random.gamma(epsilon,1/epsilon))\n",
    "stds = [] #to keep track of actual sigma generated\n",
    "stds.append(lambda_to_std(lambdas[0]))\n",
    "z = np.zeros(len(Y)) #cluster assignments\n",
    "u = np.zeros(len(Y))\n",
    "active_ks = []\n",
    "total_ks = []\n",
    "total_cs = []"
   ]
  },
  {
   "cell_type": "markdown",
   "metadata": {},
   "source": [
    "One particular problem I had is with the parameterization of $Gamma$ in the Walker paper. \n",
    "\n",
    "The Gamma distribution can be parameterized either with a shape parameter $k$ and a scale parameter $\\theta$, or alternatively with a shape parameter $\\alpha = k$ and a rate parameter $\\beta = 1 / \\theta$. \n",
    "\n",
    "In Bayesian settings (according to wikipedia), the shape and rate $(\\alpha, \\beta)$ parameterization is most often used. However, Escobar and West (1995) use  $(k, \\theta)$, shape and scale, instead.  \n",
    "\n",
    "For reasons that will be clear in a few minutes, I'll assume that Walker uses the $Gamma(\\alpha, \\beta)$ parameterization, and Escobar and West uses $Gamma(k, \\theta)$. \n",
    "\n",
    "Note that numpy.random.gamma uses the $k, \\theta$ notation, so i'll be inverting most of the 2nd parameters in Walker."
   ]
  },
  {
   "cell_type": "markdown",
   "metadata": {},
   "source": [
    "## One iteration of slice sampling"
   ]
  },
  {
   "cell_type": "markdown",
   "metadata": {},
   "source": [
    "Let's do the first step of slice sampling. We first want to initalize our auxiliary variable $u$. Recall the step for generating this is given below:\n",
    "\n",
    "For $i=1 \\dots n$, pick $u_i \\sim U(0,w_{k_i})$, choose $u^* = min\\{u_1 \\dots u_n\\}$\n",
    "\n",
    "Where $n$ is the number of observations in $Y$ "
   ]
  },
  {
   "cell_type": "code",
   "execution_count": 14,
   "metadata": {
    "collapsed": false
   },
   "outputs": [
    {
     "name": "stdout",
     "output_type": "stream",
     "text": [
      "0.0084831435529\n"
     ]
    },
    {
     "data": {
      "image/png": "[encoded data removed]",
      "text/plain": [
       "<matplotlib.figure.Figure at 0x7ffa03404250>"
      ]
     },
     "metadata": {},
     "output_type": "display_data"
    }
   ],
   "source": [
    "    u = np.zeros(len(Y))\n",
    "    for idx, val in enumerate(Y):\n",
    "        cluster_label = int(z[idx]) #vector z holds all the current cluster assignments indexed 0...k-1\n",
    "        u[idx] = np.random.uniform(0, w[cluster_label]) #we can fetch the current w_k from the w vector, with same indexing scheme as k\n",
    "    #min u \n",
    "    u_star = np.min(u)\n",
    "    plt.hist(u, bins=25)\n",
    "    plt.title('Distribution of u')\n",
    "    print u_star"
   ]
  },
  {
   "cell_type": "markdown",
   "metadata": {},
   "source": [
    "Now let's do the next step, which is: \n",
    "\n",
    "Create new components through stick breaking until we have $k^*$\n",
    "\n",
    "To do this, we can re-formulate the equation:\n",
    "$$\\sum_{j=1}^{k^*} w_j > 1-u^*$$\n",
    "\n",
    "We can re-arrange to derive, $\\beta^*$, which is $1 - \\sum_{j=1}^{k^*} w_j$. Now we see that the above condition is now:\n",
    "\n",
    "$$u^* > \\sum_{j=1}^{k^*} w_j$$\n",
    "$$u^* > \\beta^*$$\n",
    "So while this above expression is not true, we need to generate more components $k$ until we reach $k^*$.\n",
    "\n",
    "For each new $k$ that is generated, we can draw the corresponding $\\theta = (u, \\sigma^2)$ values straight from the priors specified earlier\n",
    "\n",
    "The stick-breaking lengths corresponding to each new segment is  generated as \n",
    "\n",
    "$$v_{k} = Beta(1, c)$$\n"
   ]
  },
  {
   "cell_type": "code",
   "execution_count": 16,
   "metadata": {
    "collapsed": false
   },
   "outputs": [],
   "source": [
    "    beta_star = 1 - np.sum(w)\n",
    "\n",
    "    while (beta_star >= u_star): #generate a new k while this condition is true\n",
    "        _vk = np.random.beta(1, c)\n",
    "        beta_k = _vk * beta_star\n",
    "        \n",
    "        #append beta_k to the weights\n",
    "        w.append(beta_k)\n",
    "            \n",
    "        #append _vk to v\n",
    "        v.append(_vk)\n",
    "        \n",
    "        #append new mu to mus \n",
    "        mus.append(np.random.normal(0, s_sqrt)) #draw from our prior N(0, 1/s)\n",
    "        \n",
    "        #append new lambda to lambda\n",
    "        new_lambd = np.random.gamma(epsilon, 1/epsilon) #draw from Gamma(epsilon, epsilon)\n",
    "        lambdas.append(new_lambd)\n",
    "\n",
    "        \n",
    "        #finally update beta_star\n",
    "        beta_star = beta_star*(1 -_vk)"
   ]
  },
  {
   "cell_type": "markdown",
   "metadata": {},
   "source": [
    "We can check that $\\beta^*$ is now below $u^*$. \n",
    "\n",
    "Additionally, we can inspect the number of instantiated components"
   ]
  },
  {
   "cell_type": "code",
   "execution_count": 22,
   "metadata": {
    "collapsed": false
   },
   "outputs": [
    {
     "name": "stdout",
     "output_type": "stream",
     "text": [
      "Beta star is 0.00723562694353\n",
      "u star is 0.0084831435529\n",
      "Number of instianted components is  12\n",
      "sample means for each new cluster\n",
      "[3.492266298341146, -1.3646793921728757, 1.2455967035219233, -3.004244525275804, -0.7536826018453914, 6.110083861132122, 1.1252617123250122, -4.016293364696706, -2.227040515635054, -0.7604725536515271, -2.3670532248556673, -0.3419210395158843]\n",
      "lambdas for each new cluster\n",
      "[3.4345549702195637, 0.23871155605118105, 3.027268816411562, 0.003181411490288357, 0.057300934106158954, 0.02540565665622101, 3.4984740178777405, 1.125634821233331, 1.303443874982055, 0.35296367601129747, 2.002011176727681, 0.3827998157092762]\n",
      "Sigma (translated lambda)\n",
      "[0.53959108303488057, 2.0467428321026926, 0.57474407963608243, 17.729238296788047, 4.1775258805120616, 6.2738594866053212, 0.53463904647809823, 0.94254314735205402, 0.87589860001920239, 1.6831971731006614, 0.7067515199234734, 1.6162708486473381]\n"
     ]
    }
   ],
   "source": [
    "print \"Beta star is\", beta_star\n",
    "print \"u star is\" , u_star\n",
    "print \"Number of instianted components is \" , len(w)\n",
    "print \"sample means for each new cluster\"\n",
    "print mus\n",
    "print \"lambdas for each new cluster\"\n",
    "print lambdas\n",
    "#convert lambdas to sigmas\n",
    "sigma = [lambda_to_std(x) for x in lambdas]\n",
    "print \"Sigma (translated lambda)\"\n",
    "print sigma"
   ]
  },
  {
   "cell_type": "markdown",
   "metadata": {},
   "source": [
    "Now that we have the optimal number of potential components $k^*$, we can start assigning our observed points in $Y$ to these clusters. \n",
    "\n",
    "This is given by the following equation: \n",
    "\n",
    "$$ p(\\delta_i  = k| y_i, u_i, w, \\theta) \\propto  1{\\{k:w_k > u^* \\}}P(y_i|\\theta_k)$$\n",
    "\n",
    "It's perhaps easier to express this as:\n",
    "\n",
    "$$ p(\\delta_i  = k| y_i, u_i, w, \\theta) \\propto \\begin{cases} N(y_{i} \\mid \\theta_k) & \\text{if } w_k \\geq u_{i} \\\\ 0 & \\text{otherwise} \\end{cases}$$\n",
    "\n",
    "We'll use the scipy normal distribution to generate the pdf for each $Y_{i}$ for each cluster. We can then renormalize these weights and draw from this discrete distribution use scipy custom r.v. object. These assignments will form the new $z$"
   ]
  },
  {
   "cell_type": "code",
   "execution_count": 23,
   "metadata": {
    "collapsed": false
   },
   "outputs": [
    {
     "name": "stdout",
     "output_type": "stream",
     "text": [
      "[ 0.  0.  3.  3.  0.  1.  0.  3.  0.  0.  0.  0.  0.  3.  0.  0.  3.  0.\n",
      "  0.  0.  0.  0.  0.  0.  3.  0.  0.  2.  0.  3.  3.  0.  1.  0.  0.  0.\n",
      "  3.  3.  0.  0.  3.  0.  3.  0.  0.  0.  2.  2.  0.  0.]\n"
     ]
    }
   ],
   "source": [
    "    assert len(w) == len(mus)\n",
    "    assert len(w) == len(lambdas)\n",
    "    \n",
    "    #now we get the cluster assignments z for each observation\n",
    "    for y_idx , y_val in enumerate(Y):\n",
    "        z_probs = np.zeros(len(w)) #initalize placeholder for new zs\n",
    "        for cluster_idx, mu in enumerate(mus):\n",
    "            if w[cluster_idx] > u[y_idx]:\n",
    "                z_probs[cluster_idx] = norm.pdf(y_val, loc = mu, scale = lambda_to_std(lambdas[cluster_idx]))\n",
    "            else:\n",
    "                z_probs[cluster_idx] = 0\n",
    "        #sample cluster assignments\n",
    "        norm_z_probs = z_probs / np.sum(z_probs) #normalize and feed into a discrete r.v.\n",
    "        z_sampler = stats.rv_discrete(name = \"z_sampler\", values = (np.arange(len(z_probs)), norm_z_probs))\n",
    "        z_assignment = z_sampler.rvs()\n",
    "        z[y_idx] = z_assignment #grab z_assignment\n",
    "        #print \"%i\\t%0.03f\\t%0.03f\\t%0.03f\\t%i\"%(y_idx, y_val, mu_)\n",
    "    \n",
    "    z_ints = [int(x) for x in z] #make z ints for easier use in future \n",
    "    print z"
   ]
  },
  {
   "cell_type": "markdown",
   "metadata": {},
   "source": [
    "We can see how the cluster assignments turned out. We don't expect these to be great. "
   ]
  },
  {
   "cell_type": "code",
   "execution_count": 26,
   "metadata": {
    "collapsed": false
   },
   "outputs": [
    {
     "data": {
      "text/plain": [
       "<matplotlib.text.Text at 0x7ffa02e72690>"
      ]
     },
     "execution_count": 26,
     "metadata": {},
     "output_type": "execute_result"
    },
    {
     "data": {
      "image/png": "[encoded data removed]",
      "text/plain": [
       "<matplotlib.figure.Figure at 0x7ffa02cc5e10>"
      ]
     },
     "metadata": {},
     "output_type": "display_data"
    }
   ],
   "source": [
    "plt.scatter(z, Y)\n",
    "plt.title('Cluster assignment vs Y value')\n",
    "plt.xlabel('Cluster assignment')\n",
    "plt.ylabel('Y value')"
   ]
  },
  {
   "cell_type": "markdown",
   "metadata": {},
   "source": [
    "As we observe here, we only used 4 of the 12 total possible $k^*$. This is perhaps a downside of $Y$, in the sense that our \"dynamic truncation\" is potentially causing us to waste computational resources to sample $w_k$ and calculate $p(\\delta_{i} \\mid \\ldots)$ for a large number of clusters that we may not necessarily care about."
   ]
  },
  {
   "cell_type": "markdown",
   "metadata": {},
   "source": [
    "Next, let's update our $\\theta$. This involves updating $\\mu$ and $\\lambda$. We know that the updates (from Walker section 4) to be:\n",
    "\n",
    "$$f(\\mu_j \\mid \\ldots) = N\\left( \\frac{\\xi_j \\lambda_j}{m_j \\lambda_j + s},  \\frac{1}{m_j \\lambda_j + s} \\right)$$\n",
    "Where,\n",
    "$$\\xi_j = \\sum_{k_{i} = j} y_{i}$$\n",
    "$$m_j = \\sum_{k_{i} = j} 1$$\n",
    "\n",
    "The updates for $\\lambda_j$ is as follows:\n",
    "$$f(\\lambda_j \\mid \\ldots) = Gamma(\\epsilon + m_j/2 , \\epsilon + d_j/2)$$\n",
    "where,\n",
    "$$d_j = \\sum_{k_{i} = j } (y_{i} - \\theta_j)^2$$\n",
    "\n",
    "I'm unsure why Walker used $\\theta_j$ instead of $\\mu_j$ here...as I'm unsure of how to incorporate $\\theta = (\\mu, \\lambda)$ information. "
   ]
  },
  {
   "cell_type": "code",
   "execution_count": 27,
   "metadata": {
    "collapsed": true
   },
   "outputs": [],
   "source": [
    "    z_ints = [int(x) for x in z] #make z ints for easier use in future \n",
    "    \n",
    "    #perform necessary updates for means and lambdas for each cluster \n",
    "    new_mus = []\n",
    "    new_lambdas = []\n",
    "    new_z = np.zeros(len(Y))\n",
    "    active_cluster = 0\n",
    "    count_dict = {}\n",
    "    \n",
    "    for cluster_idx in range(len(w)):\n",
    "        #update means\n",
    "        cur_lambda = lambdas[cluster_idx]    \n",
    "        eta = 0\n",
    "        m = 0\n",
    "        y_k = []\n",
    "        for y_idx, z_val in enumerate(z_ints):\n",
    "            if z_val == cluster_idx:\n",
    "                m += 1\n",
    "                eta += Y[y_idx]\n",
    "                y_k.append(Y[y_idx])\n",
    "                new_z[y_idx] = active_cluster\n",
    "        \n",
    "        if m == 0: #if un-utilized cluster, skip and don't add weights/means\n",
    "            continue\n",
    "        else:\n",
    "            count_dict[active_cluster] = m\n",
    "            active_cluster += 1        \n",
    "            _mean = (eta * cur_lambda)/(m * cur_lambda + s)\n",
    "            _variance = 1 / (m * cur_lambda + s)\n",
    "            new_mu = np.random.normal(_mean, np.sqrt(_variance)) #draw new mu from N()\n",
    "            #mus[cluster_idx] = new_mu\n",
    "            new_mus.append(new_mu)\n",
    "            #update lambda\n",
    "            d = 0\n",
    "            for val in y_k:\n",
    "                d += (val - new_mu) ** 2 #calculate d_j\n",
    "            \n",
    "            _alpha = epsilon + m/2\n",
    "            _beta = epsilon + d/2\n",
    "            new_lambda = np.random.gamma(_alpha, 1/_beta) #draw new lambda from Gamma\n",
    "            #lambdas[cluster_idx] = new_lambda\n",
    "            #print \"added at %i\"%(cluster_idx)\n",
    "            new_lambdas.append(new_lambda)\n",
    "            #stds.append(lambda_to_std(new_lambda))"
   ]
  },
  {
   "cell_type": "code",
   "execution_count": 31,
   "metadata": {
    "collapsed": false
   },
   "outputs": [
    {
     "name": "stdout",
     "output_type": "stream",
     "text": [
      "[1.3544130789819926, -1.5534969741568005, 0.34127649059096954, 0.7196369554569925]\n",
      "[0.029671530632143384, 1.6119451373185545, 7.391632465468197, 0.024707462351632955]\n",
      "[5.8053716107400453, 0.78763475552697926, 0.36781532306968484, 6.3618866773241036]\n"
     ]
    }
   ],
   "source": [
    "#inspect the new valeus\n",
    "print new_mus\n",
    "print new_lambdas\n",
    "print [lambda_to_std(x) for x in new_lambdas]"
   ]
  },
  {
   "cell_type": "markdown",
   "metadata": {},
   "source": [
    "Now let's update our $v_{k}$ and $w_{k}$ vectors. We know that \n",
    "\n",
    "$$v_k \\mid c, \\delta \\sim Beta(1+n_k, c + \\sum_{l=k+1}^{k^*} n_l)$$\n",
    "\n",
    "and\n",
    "\n",
    "$$w_k = v_k \\prod \\limits_{l=1}^{k-1}(1-v_l)$$"
   ]
  },
  {
   "cell_type": "code",
   "execution_count": 35,
   "metadata": {
    "collapsed": false,
    "scrolled": true
   },
   "outputs": [
    {
     "name": "stdout",
     "output_type": "stream",
     "text": [
      "New weights are\n",
      "[0.743327730846943, 0.06775591025456462, 0.03563452743135215, 0.12976241475948386]\n",
      "They sum up to\n",
      "0.976480583292\n"
     ]
    }
   ],
   "source": [
    "    k = active_cluster \n",
    "    vks = []\n",
    "    #print count_dict\n",
    "    for cluster_idx in range(k):\n",
    "        n_k = count_dict[cluster_idx]\n",
    "        n_j = 0\n",
    "        #print range(cluster_idx + 1, k )\n",
    "        for i in range(cluster_idx+1, k):\n",
    "            n_j += count_dict[i]\n",
    "        vks.append(np.random.beta(1 + n_k, c + n_j))\n",
    "        \n",
    "    #update weights w_k\n",
    "    new_w = []\n",
    "    old_vks = []\n",
    "    for cluster_idx in range(k):\n",
    "        if cluster_idx == 0:\n",
    "            new_w.append(vks[cluster_idx])    \n",
    "            old_vks.append(1-vks[cluster_idx])\n",
    "        else:\n",
    "            #print cluster_idx\n",
    "            vj = 1 \n",
    "            for i in range(cluster_idx):\n",
    "                #print i\n",
    "                #print old_vks\n",
    "                vj *= old_vks[i]\n",
    "            new_w.append(vks[cluster_idx] * vj)\n",
    "            old_vks.append(1-vks[cluster_idx]) \n",
    "    print \"New weights are\"\n",
    "    print new_w\n",
    "    print \"They sum up to\"\n",
    "    print sum(new_w)"
   ]
  },
  {
   "cell_type": "markdown",
   "metadata": {},
   "source": [
    "Finally we update $c$. I utilize the derivation from Escobar and West (1995) that Walker references (http://www.cs.berkeley.edu/~jordan/courses/281B-spring04/readings/escobar-west.pdf). This is equations 13 and 14 in their paper. Walker's updates for alpha wasn't terribly clear; however, their implementation is also included, but commented out. \n",
    "\n",
    "The full derivation is in that paper. For our purposes, we introduce a new latent variable $\\nu \\sim Beta(c + 1, n)$ that assists with updates on $c$. This $\\nu$ is $\\eta$ in Escobar and West. We derive equation 13 from Escobar and West:\n",
    "\n",
    "$$p(c \\mid \\nu, k ) \\sim \\pi_{n} G(a + k, b - \\log(\\eta)) + (1 - \\pi_{n}) G(a+ k - 1, b - \\log(\\eta)) $$\n",
    "\n",
    "where \n",
    "$$\\frac{\\pi_n}{1-\\pi_n} = \\frac{a + k -1}{n (b - \\log(\\eta))}$$\n",
    "\n",
    "Gamma here is parameterized by $(k, \\theta)$.\n",
    "\n",
    "$\\nu$ is updated as \n",
    "\n",
    "$$p(\\nu \\mid \\ldots) \\sim Beta(c + 1, n)$$"
   ]
  },
  {
   "cell_type": "code",
   "execution_count": 41,
   "metadata": {
    "collapsed": false
   },
   "outputs": [
    {
     "name": "stdout",
     "output_type": "stream",
     "text": [
      "New value of c is  1.89279828311\n"
     ]
    }
   ],
   "source": [
    "    new_nu = np.random.beta(c + 1, len(Y)) #update nu    \n",
    "    \n",
    "    pi_n_ratio = (a + k - 1) / (len(Y) * (b - np.log10(new_nu))) #calculate ratios for c update\n",
    "    pi_1 = pi_n_ratio / (1 + pi_n_ratio)\n",
    "    pi_2 = 1 - pi_1\n",
    "    #new_c = pi_1 * np.random.gamma(a+k, b - np.log10(new_nu)) + pi_2 * np.random.gamma(a+k-1, 1/ b-np.log10(new_nu))\n",
    "    new_c = pi_1 * np.random.gamma(a+k, b - np.log10(new_nu)) + pi_2 * np.random.gamma(a+k-1, b-np.log10(new_nu))\n",
    "    #new_c = ((c**k )* gamma(c) * np.random.gamma(a, b)) / (gamma(c + len(Y)))   #alternative update scheme from Walker  \n",
    "    \n",
    "    #store results\n",
    "    active_ks.append(k)\n",
    "    total_ks.append(len(w))\n",
    "    total_cs.append(new_c)\n",
    "    \n",
    "    #end of gibbs cycle, update all the variables for next round\n",
    "    mus = new_mus\n",
    "    lambdas = new_lambdas\n",
    "    z = new_z \n",
    "    c = new_c\n",
    "    nu = new_nu\n",
    "    v = vks \n",
    "    w = new_w\n",
    "    print \"New value of c is \", c\n"
   ]
  },
  {
   "cell_type": "markdown",
   "metadata": {},
   "source": [
    "# Running Slice Sampler"
   ]
  },
  {
   "cell_type": "markdown",
   "metadata": {},
   "source": [
    "Now that we've completed a successful Gibbs cycle, we can run it for a short amount of time (100 or so iterations) to see what happens to all our values."
   ]
  },
  {
   "cell_type": "code",
   "execution_count": 42,
   "metadata": {
    "collapsed": false
   },
   "outputs": [
    {
     "name": "stdout",
     "output_type": "stream",
     "text": [
      "On iteration 50\tBeta_star is 0.050418\tU-star is 0.000910\tActive ks 8\tAlpha is 13.598403\n",
      "\n",
      "[0.3845356029744349, 0.09653542119618165, 0.14560807779770366, 0.14935927965916357, 0.10392166700250499, 0.01161791062745882, 0.02547069229859097, 0.03253304033885927]\n"
     ]
    }
   ],
   "source": [
    "for cur_iter in range(99):\n",
    "    #print \"Starting iter %i\"%(cur_iter)\n",
    "    u = np.zeros(len(Y))\n",
    "    #grab u \n",
    "    for idx, val in enumerate(Y):\n",
    "        cluster_label = int(z[idx])\n",
    "        u[idx] = np.random.uniform(0, w[cluster_label])\n",
    "    \n",
    "    #min u \n",
    "    u_star = np.min(u)\n",
    "    \n",
    "    #find k_star and initalize components until we have enough\n",
    "    beta_star = 1 - np.sum(w)\n",
    "    if cur_iter > 1 and cur_iter % 50 == 0:\n",
    "        print \"On iteration %i\\tBeta_star is %0.06f\\tU-star is %0.06f\\tActive ks %i\\tAlpha is %0.06f\\n\"%(cur_iter, beta_star, u_star, active_ks[-1], total_cs[-1])\n",
    "        print w\n",
    "    while (beta_star >= u_star):\n",
    "        _vk = np.random.beta(1, c)\n",
    "        beta_k = _vk * beta_star\n",
    "        \n",
    "        #append beta_k to the weights\n",
    "        w.append(beta_k)\n",
    "            \n",
    "        #append _vk to v\n",
    "        v.append(_vk)\n",
    "        \n",
    "        #append new mu to mus \n",
    "        mus.append(np.random.normal(0, s_sqrt))\n",
    "        \n",
    "        #append new lambda to lambda\n",
    "        new_lambd = np.random.gamma(epsilon, 1/epsilon)\n",
    "        lambdas.append(new_lambd)\n",
    "\n",
    "        \n",
    "        #finally update beta_star\n",
    "        beta_star = beta_star*(1 -_vk)\n",
    "    \n",
    "    assert len(w) == len(mus)\n",
    "    assert len(w) == len(lambdas)\n",
    "    \n",
    "    #now we get the cluster assignments z for each observation\n",
    "    for y_idx , y_val in enumerate(Y):\n",
    "        z_probs = np.zeros(len(w))\n",
    "        for cluster_idx, mu in enumerate(mus):\n",
    "            if w[cluster_idx] > u[y_idx]:\n",
    "                z_probs[cluster_idx] = norm.pdf(y_val, loc = mu, scale = lambda_to_std(lambdas[cluster_idx]))\n",
    "            else:\n",
    "                z_probs[cluster_idx] = 0\n",
    "        #sample cluster assignments\n",
    "        norm_z_probs = z_probs / np.sum(z_probs)\n",
    "        z_sampler = stats.rv_discrete(name = \"z_sampler\", values = (np.arange(len(z_probs)), norm_z_probs))\n",
    "        z_assignment = z_sampler.rvs()\n",
    "        z[y_idx] = z_assignment\n",
    "        #print \"%i\\t%0.03f\\t%0.03f\\t%0.03f\\t%i\"%(y_idx, y_val, mu_)\n",
    "    \n",
    "    z_ints = [int(x) for x in z] #make z ints for easier use in future \n",
    "    \n",
    "    #perform necessary updates for means and lambdas for each cluster \n",
    "    new_mus = []\n",
    "    new_lambdas = []\n",
    "    new_z = np.zeros(len(Y))\n",
    "    active_cluster = 0\n",
    "    count_dict = {}\n",
    "    \n",
    "    for cluster_idx in range(len(w)):\n",
    "        #update means\n",
    "        cur_lambda = lambdas[cluster_idx]    \n",
    "        eta = 0\n",
    "        m = 0\n",
    "        y_k = []\n",
    "        for y_idx, z_val in enumerate(z_ints):\n",
    "            if z_val == cluster_idx:\n",
    "                m += 1\n",
    "                eta += Y[y_idx]\n",
    "                y_k.append(Y[y_idx])\n",
    "                new_z[y_idx] = active_cluster\n",
    "        \n",
    "        if m == 0:\n",
    "            continue\n",
    "        else:\n",
    "            count_dict[active_cluster] = m\n",
    "            active_cluster += 1        \n",
    "            _mean = (eta * cur_lambda)/(m * cur_lambda + s)\n",
    "            _variance = 1 / (m * cur_lambda + s)\n",
    "            new_mu = np.random.normal(_mean, np.sqrt(_variance))\n",
    "            #mus[cluster_idx] = new_mu\n",
    "            new_mus.append(new_mu)\n",
    "            #update lambda\n",
    "            d = 0\n",
    "            for val in y_k:\n",
    "                d += (val - new_mu) ** 2\n",
    "            \n",
    "            _alpha = epsilon + m/2\n",
    "            _beta = epsilon + d/2\n",
    "            new_lambda = np.random.gamma(_alpha, 1/_beta)\n",
    "            #lambdas[cluster_idx] = new_lambda\n",
    "            #print \"added at %i\"%(cluster_idx)\n",
    "            new_lambdas.append(new_lambda)\n",
    "            stds.append(lambda_to_std(new_lambda))\n",
    "            \n",
    "    #update the stick breaking lengths v_k \n",
    "    k = active_cluster \n",
    "    vks = []\n",
    "    #print count_dict\n",
    "    for cluster_idx in range(k):\n",
    "        n_k = count_dict[cluster_idx]\n",
    "        n_j = 0\n",
    "        #print range(cluster_idx + 1, k )\n",
    "        for i in range(cluster_idx+1, k):\n",
    "            n_j += count_dict[i]\n",
    "        vks.append(np.random.beta(1 + n_k, c + n_j))\n",
    "        \n",
    "    #update weights w_k\n",
    "    new_w = []\n",
    "    old_vks = []\n",
    "    for cluster_idx in range(k):\n",
    "        if cluster_idx == 0:\n",
    "            new_w.append(vks[cluster_idx])    \n",
    "            old_vks.append(1-vks[cluster_idx])\n",
    "        else:\n",
    "            #print cluster_idx\n",
    "            vj = 1 \n",
    "            for i in range(cluster_idx):\n",
    "                #print i\n",
    "                #print old_vks\n",
    "                vj *= old_vks[i]\n",
    "            new_w.append(vks[cluster_idx] * vj)\n",
    "            old_vks.append(1-vks[cluster_idx])   \n",
    "    \n",
    "    #lastly, update c (alpha) and nu (Escobar & West 1995, section 6)\n",
    "    #update c\n",
    "    new_nu = np.random.beta(c + 1, len(Y))    \n",
    "    \n",
    "    pi_n_ratio = (a + k - 1) / (len(Y) * (b - np.log10(new_nu)))\n",
    "    pi_1 = pi_n_ratio / (1 + pi_n_ratio)\n",
    "    pi_2 = 1 - pi_1\n",
    "    #new_c = pi_1 * np.random.gamma(a+k, b - np.log10(new_nu)) + pi_2 * np.random.gamma(a+k-1, b-np.log10(new_nu))\n",
    "    new_c = pi_1 * np.random.gamma(a+k, b - np.log10(new_nu)) + pi_2 * np.random.gamma(a+k-1, b-np.log10(new_nu))\n",
    "    #new_c = np.random.gamma(a+k, b - np.log10(new_nu))\n",
    "    #new_c = ((c**k )* gamma(c) * np.random.gamma(0.1,10)) / (gamma(c + len(Y)))      \n",
    "    \n",
    "    #store results\n",
    "    active_ks.append(k)\n",
    "    total_ks.append(len(w))\n",
    "    total_cs.append(new_c)\n",
    "    \n",
    "    #end of gibbs cycle, update all the variables for next round\n",
    "    mus = new_mus\n",
    "    lambdas = new_lambdas\n",
    "    z = new_z \n",
    "    c = new_c\n",
    "    nu = new_nu\n",
    "    v = vks \n",
    "    w = new_w"
   ]
  },
  {
   "cell_type": "markdown",
   "metadata": {},
   "source": [
    "We can plot our current sampling iteration and how our $k$ is changing with MCMC iterations"
   ]
  },
  {
   "cell_type": "code",
   "execution_count": 47,
   "metadata": {
    "collapsed": false
   },
   "outputs": [
    {
     "data": {
      "image/png": "[encoded data removed]",
      "text/plain": [
       "<matplotlib.figure.Figure at 0x7ffa02992390>"
      ]
     },
     "metadata": {},
     "output_type": "display_data"
    }
   ],
   "source": [
    "plt.clf()\n",
    "plt.scatter(z , Y)\n",
    "plt.title('Representative Clustering')\n",
    "plt.xlabel('Cluster Index')\n",
    "plt.ylabel('Y value')\n",
    "plt.savefig('rep_clustv2.png',dpi=450)\n",
    "\n"
   ]
  },
  {
   "cell_type": "code",
   "execution_count": 46,
   "metadata": {
    "collapsed": false
   },
   "outputs": [
    {
     "data": {
      "text/plain": [
       "<matplotlib.text.Text at 0x7ffa0304f1d0>"
      ]
     },
     "execution_count": 46,
     "metadata": {},
     "output_type": "execute_result"
    },
    {
     "data": {
      "image/png": "[encoded data removed]",
      "text/plain": [
       "<matplotlib.figure.Figure at 0x7ffa03072c50>"
      ]
     },
     "metadata": {},
     "output_type": "display_data"
    }
   ],
   "source": [
    "plt.clf()\n",
    "plt.hist(Y, bins= 35)\n",
    "plt.title('Simulated Distribution of Y')\n",
    "plt.xlabel('Y value')\n",
    "plt.ylabel('Counts')"
   ]
  },
  {
   "cell_type": "markdown",
   "metadata": {},
   "source": [
    "Looks like our sampler is getting the left cluster...confused. The right-most cluster is being resolved well. Or I have a bug somewhere. Who knows?\n"
   ]
  },
  {
   "cell_type": "code",
   "execution_count": 48,
   "metadata": {
    "collapsed": false
   },
   "outputs": [
    {
     "data": {
      "image/png": "[encoded data removed]",
      "text/plain": [
       "<matplotlib.figure.Figure at 0x7ffa028ccf90>"
      ]
     },
     "metadata": {},
     "output_type": "display_data"
    }
   ],
   "source": [
    "\n",
    "\n",
    "plt.clf()\n",
    "#plt.scatter(np.arange(len(active_ks)), active_ks)\n",
    "\n",
    "plt.plot(np.arange(len(active_ks)), movingaverage(total_ks, 10), 'b-', label='Moving average total k')\n",
    "plt.plot(np.arange(len(active_ks)), movingaverage(active_ks, 10), 'r-', label='Moving average realized k')\n",
    "plt.xlabel('Iterations')\n",
    "plt.ylabel('Clusters')\n",
    "plt.xlim((0,100))\n",
    "plt.legend(prop={'size':8})\n",
    "plt.title('Moving average of clusters vs. Gibbs Iterations')\n",
    "plt.savefig('var_c4.png', dpi=500)\n"
   ]
  },
  {
   "cell_type": "markdown",
   "metadata": {},
   "source": [
    "Now let's run this some more and see what happens.\n"
   ]
  },
  {
   "cell_type": "code",
   "execution_count": 49,
   "metadata": {
    "collapsed": false,
    "scrolled": true
   },
   "outputs": [
    {
     "name": "stdout",
     "output_type": "stream",
     "text": [
      "On iteration 50\tBeta_star is 0.146247\tU-star is 0.000839\tActive ks 7\tAlpha is 5.304842\n",
      "\n",
      "[0.14870448606103684, 0.11762895681644388, 0.05165514858264237, 0.3304961515122182, 0.12557321635594695, 0.044896521253519533, 0.03479835679248947]\n",
      "On iteration 100\tBeta_star is 0.104520\tU-star is 0.002113\tActive ks 8\tAlpha is 4.512718\n",
      "\n",
      "[0.3420658160041864, 0.08272812177075652, 0.242193770146681, 0.11430588690408333, 0.04614446523521093, 0.03974835830903283, 0.02101916090084772, 0.007274666794291189]\n",
      "On iteration 150\tBeta_star is 0.114541\tU-star is 0.001020\tActive ks 9\tAlpha is 6.851666\n",
      "\n",
      "[0.2788750012601663, 0.08864130669213524, 0.24320516455637603, 0.012134613726573564, 0.0646604283344759, 0.04357066414763661, 0.05832974001603898, 0.031093226419411115, 0.06494928334397465]\n",
      "On iteration 200\tBeta_star is 0.048501\tU-star is 0.000195\tActive ks 10\tAlpha is 5.659168\n",
      "\n",
      "[0.3200902529171862, 0.10874595494321883, 0.1603071559915094, 0.008594813996052324, 0.06627439071206073, 0.04303467273271218, 0.09447900352450644, 0.053179250263304764, 0.0056358511532849775, 0.09115805340957815]\n",
      "On iteration 250\tBeta_star is 0.029166\tU-star is 0.001034\tActive ks 12\tAlpha is 13.152175\n",
      "\n",
      "[0.30034609373324456, 0.37846119144883705, 0.03915089555918336, 0.014624824930502819, 0.012940312836399449, 0.03722284884151371, 0.048481337597952076, 0.00856414188149011, 0.06703963786249949, 0.018964440824250087, 0.026334406971255657, 0.018704092576142427]\n",
      "On iteration 300\tBeta_star is 0.022058\tU-star is 0.002656\tActive ks 7\tAlpha is 5.079953\n",
      "\n",
      "[0.4073468788930519, 0.1960514014183512, 0.19819517061378356, 0.08761454535831584, 0.048030478038501107, 0.014089317531557028, 0.026613728480920057]\n",
      "On iteration 350\tBeta_star is 0.038625\tU-star is 0.000560\tActive ks 8\tAlpha is 8.424209\n",
      "\n",
      "[0.270314235787276, 0.3632043244745519, 0.11700207564796167, 0.07979279606182628, 0.0472266345788716, 0.03754496094530863, 0.02295198822966522, 0.023337681557210697]\n",
      "On iteration 400\tBeta_star is 0.150064\tU-star is 0.002319\tActive ks 12\tAlpha is 6.797050\n",
      "\n",
      "[0.2594723386218089, 0.05659153615669444, 0.05663393910473922, 0.07904413211553128, 0.06726343770704493, 0.02601261958389306, 0.047115656343615954, 0.06006631552212519, 0.08128689793842303, 0.08965711511966362, 0.02176336002773371, 0.005028715657646546]\n",
      "On iteration 450\tBeta_star is 0.116781\tU-star is 0.000803\tActive ks 11\tAlpha is 6.251462\n",
      "\n",
      "[0.253649327750209, 0.3499851095394016, 0.005194428607522486, 0.01559794379515953, 0.0759325834273817, 0.04793532558236075, 0.007504842392947708, 0.026441196010203092, 0.05822724863859534, 0.032534679004281045, 0.010216423962261854]\n",
      "On iteration 500\tBeta_star is 0.055941\tU-star is 0.002491\tActive ks 8\tAlpha is 9.415275\n",
      "\n",
      "[0.07367761017736059, 0.0353047832078843, 0.14030664740798415, 0.06347424566010788, 0.2654779881802823, 0.19501677976408036, 0.12162273488328551, 0.049177772069600306]\n",
      "On iteration 550\tBeta_star is 0.130157\tU-star is 0.001302\tActive ks 9\tAlpha is 5.540745\n",
      "\n",
      "[0.23094504373282176, 0.014052984406293795, 0.0970996291303056, 0.3021565103497201, 0.06512920139230245, 0.0843603110998065, 0.04202292263859886, 0.009627576833087544, 0.024448746242917856]\n",
      "On iteration 600\tBeta_star is 0.057117\tU-star is 0.000210\tActive ks 13\tAlpha is 17.562018\n",
      "\n",
      "[0.34973861292570296, 0.11935761173038412, 0.14144316335804474, 0.03698683170245606, 0.07450114443640307, 0.0782419563841671, 0.03535842922427643, 0.034074389415147316, 0.004522504036645929, 0.04618383471090341, 0.014507106248179498, 0.0056734750630716025, 0.002293793307186205]\n",
      "On iteration 650\tBeta_star is 0.096426\tU-star is 0.000135\tActive ks 10\tAlpha is 11.643206\n",
      "\n",
      "[0.3117885143638336, 0.28333428784590275, 0.041024160320252, 0.09252352944972222, 0.0776686939638518, 0.010082054922068135, 0.029607735748966232, 0.026993067539650445, 0.020989251999285547, 0.009562569378205916]\n",
      "On iteration 700\tBeta_star is 0.173598\tU-star is 0.000068\tActive ks 12\tAlpha is 11.902394\n",
      "\n",
      "[0.2314453483945379, 0.04942827853404409, 0.06351935834540495, 0.15920804014573303, 0.026491667504105323, 0.04335650543543267, 0.06912520592443289, 0.11709250892489514, 0.02489797558478751, 0.021584473976566248, 0.01983316135910866, 0.00041919627044261735]\n",
      "On iteration 750\tBeta_star is 0.087437\tU-star is 0.001577\tActive ks 13\tAlpha is 7.363003\n",
      "\n",
      "[0.31740687792703587, 0.05134471735708992, 0.17929988485312456, 0.040227674940490725, 0.031422705141392254, 0.06096231188890163, 0.014948400230119235, 0.06286621687965047, 0.04437904223775548, 0.0029224517656886804, 0.010364559483651694, 0.06368347299164241, 0.03273470383750487]\n",
      "On iteration 800\tBeta_star is 0.106511\tU-star is 0.000870\tActive ks 9\tAlpha is 5.049801\n",
      "\n",
      "[0.34672582233672167, 0.10639110738673564, 0.11377304982574989, 0.06204781394247675, 0.0952019634351445, 0.15318246845241232, 0.008618445350269646, 0.0030144417964303575, 0.0045335552740530605]\n",
      "On iteration 850\tBeta_star is 0.079352\tU-star is 0.000619\tActive ks 13\tAlpha is 8.830380\n",
      "\n",
      "[0.25959278806448366, 0.12372686068787489, 0.034463845493167285, 0.10080268219903814, 0.039711620857379774, 0.08476079331053418, 0.0287174998816951, 0.06518351208146468, 0.0169270374502308, 0.041257153350397376, 0.06334606364320075, 0.0102994313755432, 0.05185890694996459]\n",
      "On iteration 900\tBeta_star is 0.057106\tU-star is 0.002428\tActive ks 14\tAlpha is 8.817193\n",
      "\n",
      "[0.34912959364913226, 0.013899863710559651, 0.05169776279747329, 0.015730640714712866, 0.20092428966931364, 0.04253252376773753, 0.047251350518634105, 0.02674068803793944, 0.059364459218707845, 0.03966684509696819, 0.03152031952232617, 0.010958362820033898, 0.014656157852803236, 0.038821302531305224]\n",
      "On iteration 950\tBeta_star is 0.041143\tU-star is 0.000826\tActive ks 11\tAlpha is 7.202151\n",
      "\n",
      "[0.31451955878622145, 0.12330318656498616, 0.15660885485324572, 0.09012558076395971, 0.0686188860999723, 0.002401822300743089, 0.08164214542941411, 0.06576955439282728, 0.029699040297154138, 0.014356143832617477, 0.011811787026065768]\n",
      "On iteration 1000\tBeta_star is 0.033175\tU-star is 0.001834\tActive ks 8\tAlpha is 6.917837\n",
      "\n",
      "[0.3682115840376717, 0.10562044644841947, 0.08038350662752894, 0.2119889761935506, 0.005236050747832009, 0.11447716950916899, 0.05132612577668619, 0.0295814656103562]\n",
      "On iteration 1050\tBeta_star is 0.019832\tU-star is 0.000832\tActive ks 5\tAlpha is 4.276222\n",
      "\n",
      "[0.1918550210833455, 0.35775746371833084, 0.053932629602562114, 0.28038486491338127, 0.0962380700853725]\n",
      "On iteration 1100\tBeta_star is 0.055812\tU-star is 0.000863\tActive ks 10\tAlpha is 10.987802\n",
      "\n",
      "[0.33046136713353746, 0.050047730459761075, 0.05234457495158104, 0.15001760803283523, 0.06718929473572921, 0.10371240186548211, 0.04239573701551177, 0.0989101806156546, 0.029055307254404417, 0.02005401892236858]\n",
      "On iteration 1150\tBeta_star is 0.131708\tU-star is 0.000711\tActive ks 12\tAlpha is 8.472595\n",
      "\n",
      "[0.1690817038100171, 0.21935784290406304, 0.1936647293960574, 0.009796149055142044, 0.022448303267216557, 0.06094531918442047, 0.05707593377937542, 0.0174635608010813, 0.06669528959290952, 0.011857591155436506, 0.009463379462830043, 0.030442202925397167]\n",
      "On iteration 1200\tBeta_star is 0.061014\tU-star is 0.000203\tActive ks 7\tAlpha is 5.869961\n",
      "\n",
      "[0.4196236818317362, 0.31840444212060914, 0.055346122630317976, 0.11255418924681013, 0.019340854142645622, 0.0051577434974599875, 0.008558947181535258]\n",
      "On iteration 1250\tBeta_star is 0.107002\tU-star is 0.000440\tActive ks 14\tAlpha is 9.853493\n",
      "\n",
      "[0.3650691561271073, 0.13715379277901868, 0.009568811179728414, 0.05128945632272273, 0.08841347245452327, 0.10529450138628323, 0.011196783034752293, 0.014392681553803455, 0.011792043497224543, 0.01979656693363673, 0.018958378704564554, 0.04593415534341231, 0.00676825304363598, 0.007370003872419207]\n",
      "On iteration 1300\tBeta_star is 0.149100\tU-star is 0.001562\tActive ks 10\tAlpha is 15.680051\n",
      "\n",
      "[0.2026220569046621, 0.14034834722078726, 0.046793246464767825, 0.20171045990085384, 0.0691148008199214, 0.05430777532077651, 0.06615163745244654, 0.03463229363404158, 0.01342695322975849, 0.021792817329531734]\n",
      "On iteration 1350\tBeta_star is 0.094017\tU-star is 0.001131\tActive ks 9\tAlpha is 6.650272\n",
      "\n",
      "[0.22417190653638308, 0.19901308865273284, 0.13157128156602282, 0.07255250699464053, 0.05040989220062868, 0.1564362098130842, 0.05003990920326971, 0.005108060318343794, 0.016679945439560855]\n",
      "On iteration 1400\tBeta_star is 0.154723\tU-star is 0.000014\tActive ks 10\tAlpha is 8.385384\n",
      "\n",
      "[0.22757525056988082, 0.03188056970588711, 0.03863732295311429, 0.13186168043709767, 0.1436850666049831, 0.02560625352296379, 0.1369249089934229, 0.024107823191959907, 0.0794283355696792, 0.005569363821610367]\n",
      "On iteration 1450\tBeta_star is 0.017297\tU-star is 0.000705\tActive ks 6\tAlpha is 5.167138\n",
      "\n",
      "[0.3662395763539927, 0.4129691282701398, 0.04479804090205645, 0.0832526678053476, 0.07386302485787806, 0.0015802942709026223]\n",
      "On iteration 1500\tBeta_star is 0.099087\tU-star is 0.000578\tActive ks 15\tAlpha is 10.968095\n",
      "\n",
      "[0.3620111433939961, 0.06488779710245265, 0.06028864676134644, 0.09315224650646398, 0.035060864449106416, 0.02098349663500601, 0.016601089970653262, 0.11846621879437537, 0.0436971298890946, 0.020381606758961772, 0.009288972676736717, 0.02529334807449169, 0.02432325216040006, 0.004903465014939274, 0.0015741805103532324]\n",
      "On iteration 1550\tBeta_star is 0.108484\tU-star is 0.001561\tActive ks 10\tAlpha is 5.538648\n",
      "\n",
      "[0.3055708039580041, 0.16300500834741885, 0.2485186890873264, 0.08092400363923777, 0.054092376788968256, 0.008334354398407217, 0.0054649825354355286, 0.015816353662356435, 0.006387552844953821, 0.0034018653600395485]\n",
      "On iteration 1600\tBeta_star is 0.043892\tU-star is 0.000176\tActive ks 11\tAlpha is 9.122399\n",
      "\n",
      "[0.37255222735396437, 0.050351709127327726, 0.2231795549416557, 0.09816366003444221, 0.07214488381437446, 0.06040819906272687, 0.03156684982443019, 0.006066425729004419, 0.009887293937553812, 0.020643422862375086, 0.011143334514023853]\n",
      "On iteration 1650\tBeta_star is 0.104779\tU-star is 0.000192\tActive ks 10\tAlpha is 12.123791\n",
      "\n",
      "[0.2794556642516539, 0.16511781023376268, 0.13358411223903185, 0.1577494806952, 0.013359617006984952, 0.04122384424807002, 0.017516651913899294, 0.03517105793181096, 0.017844158544560118, 0.034198145706878895]\n",
      "On iteration 1700\tBeta_star is 0.016089\tU-star is 0.000171\tActive ks 12\tAlpha is 14.467966\n",
      "\n",
      "[0.3459953146888485, 0.2651837387153003, 0.07351070683773805, 0.01929398337467802, 0.03366060194507226, 0.038781466682961695, 0.019141944623722065, 0.03655055018985816, 0.1070973620468824, 0.0009302037374872941, 0.014762787985624101, 0.0290020857803653]\n",
      "On iteration 1750\tBeta_star is 0.223636\tU-star is 0.005819\tActive ks 8\tAlpha is 5.086558\n",
      "\n",
      "[0.1969738044565715, 0.07521580167952498, 0.05097989504773645, 0.26095027491079137, 0.08905187221577855, 0.007080969526994422, 0.06242427916245988, 0.03368695017933016]\n",
      "On iteration 1800\tBeta_star is 0.063109\tU-star is 0.001740\tActive ks 11\tAlpha is 9.732423\n",
      "\n",
      "[0.29164772840334907, 0.23146876437114386, 0.07567226714156432, 0.038547492702614115, 0.013086731122658957, 0.09666143077214032, 0.04688938964939544, 0.026736305586599653, 0.044455452594045125, 0.023428046095964137, 0.04829713098878645]\n",
      "On iteration 1850\tBeta_star is 0.074546\tU-star is 0.000246\tActive ks 11\tAlpha is 5.620974\n",
      "\n",
      "[0.3089934451151616, 0.2148990480238177, 0.1950383736404373, 0.04653782785042878, 0.08240571853615465, 0.009129044212002693, 0.00902087078144517, 0.020054544540831644, 0.01814562212739599, 0.016713955099769473, 0.004515112958078262]\n",
      "On iteration 1900\tBeta_star is 0.041955\tU-star is 0.001046\tActive ks 7\tAlpha is 4.026659\n",
      "\n",
      "[0.3576511707064658, 0.24727483909115475, 0.22074357003160883, 0.05708352491675808, 0.03055734491918413, 0.02152990418235343, 0.02320474579369306]\n",
      "On iteration 1950\tBeta_star is 0.145840\tU-star is 0.008417\tActive ks 4\tAlpha is 3.115681\n",
      "\n",
      "[0.34570450351935184, 0.3764944904758384, 0.09955166037506337, 0.03240979926761867]\n",
      "On iteration 2000\tBeta_star is 0.105382\tU-star is 0.002173\tActive ks 13\tAlpha is 12.486790\n",
      "\n",
      "[0.013356426776843146, 0.3262933828106471, 0.09609994963357088, 0.0651848915820433, 0.04006615742234946, 0.12377558810977725, 0.0172743123773627, 0.020104870951395334, 0.022223646387302905, 0.03831593871905063, 0.08062766207831823, 0.03382472831967001, 0.0174701154648641]\n",
      "On iteration 2050\tBeta_star is 0.062018\tU-star is 0.000067\tActive ks 11\tAlpha is 14.192722\n",
      "\n",
      "[0.32256825435828185, 0.14737449332134595, 0.02555668890671328, 0.05860192279887957, 0.11198053593616275, 0.05182795700157621, 0.07000121958063915, 0.08045520691336866, 0.04292786804615462, 0.00650801572643151, 0.020179947513303428]\n",
      "On iteration 2100\tBeta_star is 0.165164\tU-star is 0.000254\tActive ks 8\tAlpha is 3.418274\n",
      "\n",
      "[0.35270044025809877, 0.16794045977207236, 0.08801314263436512, 0.07564547179044959, 0.08969291287771243, 0.024592014427109055, 0.006315173610639266, 0.029936690757613123]\n",
      "On iteration 2150\tBeta_star is 0.056975\tU-star is 0.000212\tActive ks 8\tAlpha is 9.241520\n",
      "\n",
      "[0.3159359958928481, 0.36791259096791706, 0.1429239909817047, 0.08239523530971113, 0.0024700446882836274, 0.019501973612892312, 0.007191606995629122, 0.004693420022637963]\n",
      "On iteration 2200\tBeta_star is 0.025174\tU-star is 0.001834\tActive ks 10\tAlpha is 4.919164\n",
      "\n",
      "[0.3276348192043058, 0.12701779829990265, 0.12745879074513575, 0.20060590548391122, 0.05047066022095324, 0.025448538063722145, 0.06225106910997503, 0.019584781864703846, 0.003692047858212405, 0.030661418958109445]\n",
      "On iteration 2250\tBeta_star is 0.105188\tU-star is 0.000449\tActive ks 9\tAlpha is 7.445968\n",
      "\n",
      "[0.08781484941978475, 0.14576141668964873, 0.20295831822264523, 0.12279367581030902, 0.04481835405473533, 0.1200651775396387, 0.13441942986790184, 0.028237891655637594, 0.007943275931406743]\n",
      "On iteration 2300\tBeta_star is 0.095541\tU-star is 0.000739\tActive ks 16\tAlpha is 6.877556\n",
      "\n",
      "[0.23468503715924646, 0.02988811459552159, 0.06721653208556133, 0.07195734486531404, 0.0341637933347936, 0.03483569868973684, 0.09557008272872222, 0.09588390238007766, 0.018822253540147504, 0.03866855139714201, 0.028039114674649274, 0.012212678744583547, 0.04216030231911192, 0.03913654051504714, 0.029330144853815063, 0.03188859893658045]\n",
      "On iteration 2350\tBeta_star is 0.101042\tU-star is 0.000848\tActive ks 7\tAlpha is 5.835165\n",
      "\n",
      "[0.3673132921738913, 0.019386118527557956, 0.20529530340796395, 0.13966682911773298, 0.036281909524554234, 0.06893210292155777, 0.06208253715333602]\n"
     ]
    }
   ],
   "source": [
    "for cur_iter in range(2400): #already ran 100 times \n",
    "    #print \"Starting iter %i\"%(cur_iter)\n",
    "    u = np.zeros(len(Y))\n",
    "    #grab u \n",
    "    for idx, val in enumerate(Y):\n",
    "        cluster_label = int(z[idx])\n",
    "        u[idx] = np.random.uniform(0, w[cluster_label])\n",
    "    \n",
    "    #min u \n",
    "    u_star = np.min(u)\n",
    "    \n",
    "    #find k_star and initalize components until we have enough\n",
    "    beta_star = 1 - np.sum(w)\n",
    "    if cur_iter > 1 and cur_iter % 50 == 0:\n",
    "        print \"On iteration %i\\tBeta_star is %0.06f\\tU-star is %0.06f\\tActive ks %i\\tAlpha is %0.06f\\n\"%(cur_iter, beta_star, u_star, active_ks[-1], total_cs[-1])\n",
    "        print w\n",
    "    while (beta_star >= u_star):\n",
    "        _vk = np.random.beta(1, c)\n",
    "        beta_k = _vk * beta_star\n",
    "        \n",
    "        #append beta_k to the weights\n",
    "        w.append(beta_k)\n",
    "            \n",
    "        #append _vk to v\n",
    "        v.append(_vk)\n",
    "        \n",
    "        #append new mu to mus \n",
    "        mus.append(np.random.normal(0, s_sqrt))\n",
    "        \n",
    "        #append new lambda to lambda\n",
    "        new_lambd = np.random.gamma(epsilon, 1/epsilon)\n",
    "        lambdas.append(new_lambd)\n",
    "\n",
    "        \n",
    "        #finally update beta_star\n",
    "        beta_star = beta_star*(1 -_vk)\n",
    "    \n",
    "    assert len(w) == len(mus)\n",
    "    assert len(w) == len(lambdas)\n",
    "    \n",
    "    #now we get the cluster assignments z for each observation\n",
    "    for y_idx , y_val in enumerate(Y):\n",
    "        z_probs = np.zeros(len(w))\n",
    "        for cluster_idx, mu in enumerate(mus):\n",
    "            if w[cluster_idx] > u[y_idx]:\n",
    "                z_probs[cluster_idx] = norm.pdf(y_val, loc = mu, scale = lambda_to_std(lambdas[cluster_idx]))\n",
    "            else:\n",
    "                z_probs[cluster_idx] = 0\n",
    "        #sample cluster assignments\n",
    "        norm_z_probs = z_probs / np.sum(z_probs)\n",
    "        z_sampler = stats.rv_discrete(name = \"z_sampler\", values = (np.arange(len(z_probs)), norm_z_probs))\n",
    "        z_assignment = z_sampler.rvs()\n",
    "        z[y_idx] = z_assignment\n",
    "        #print \"%i\\t%0.03f\\t%0.03f\\t%0.03f\\t%i\"%(y_idx, y_val, mu_)\n",
    "    \n",
    "    z_ints = [int(x) for x in z] #make z ints for easier use in future \n",
    "    \n",
    "    #perform necessary updates for means and lambdas for each cluster \n",
    "    new_mus = []\n",
    "    new_lambdas = []\n",
    "    new_z = np.zeros(len(Y))\n",
    "    active_cluster = 0\n",
    "    count_dict = {}\n",
    "    \n",
    "    for cluster_idx in range(len(w)):\n",
    "        #update means\n",
    "        cur_lambda = lambdas[cluster_idx]    \n",
    "        eta = 0\n",
    "        m = 0\n",
    "        y_k = []\n",
    "        for y_idx, z_val in enumerate(z_ints):\n",
    "            if z_val == cluster_idx:\n",
    "                m += 1\n",
    "                eta += Y[y_idx]\n",
    "                y_k.append(Y[y_idx])\n",
    "                new_z[y_idx] = active_cluster\n",
    "        \n",
    "        if m == 0:\n",
    "            continue\n",
    "        else:\n",
    "            count_dict[active_cluster] = m\n",
    "            active_cluster += 1        \n",
    "            _mean = (eta * cur_lambda)/(m * cur_lambda + s)\n",
    "            _variance = 1 / (m * cur_lambda + s)\n",
    "            new_mu = np.random.normal(_mean, np.sqrt(_variance))\n",
    "            #mus[cluster_idx] = new_mu\n",
    "            new_mus.append(new_mu)\n",
    "            #update lambda\n",
    "            d = 0\n",
    "            for val in y_k:\n",
    "                d += (val - new_mu) ** 2\n",
    "            \n",
    "            _alpha = epsilon + m/2\n",
    "            _beta = epsilon + d/2\n",
    "            new_lambda = np.random.gamma(_alpha, 1/_beta)\n",
    "            #lambdas[cluster_idx] = new_lambda\n",
    "            #print \"added at %i\"%(cluster_idx)\n",
    "            new_lambdas.append(new_lambda)\n",
    "            stds.append(lambda_to_std(new_lambda))\n",
    "            \n",
    "    #update the stick breaking lengths v_k \n",
    "    k = active_cluster \n",
    "    vks = []\n",
    "    #print count_dict\n",
    "    for cluster_idx in range(k):\n",
    "        n_k = count_dict[cluster_idx]\n",
    "        n_j = 0\n",
    "        #print range(cluster_idx + 1, k )\n",
    "        for i in range(cluster_idx+1, k):\n",
    "            n_j += count_dict[i]\n",
    "        vks.append(np.random.beta(1 + n_k, c + n_j))\n",
    "        \n",
    "    #update weights w_k\n",
    "    new_w = []\n",
    "    old_vks = []\n",
    "    for cluster_idx in range(k):\n",
    "        if cluster_idx == 0:\n",
    "            new_w.append(vks[cluster_idx])    \n",
    "            old_vks.append(1-vks[cluster_idx])\n",
    "        else:\n",
    "            #print cluster_idx\n",
    "            vj = 1 \n",
    "            for i in range(cluster_idx):\n",
    "                #print i\n",
    "                #print old_vks\n",
    "                vj *= old_vks[i]\n",
    "            new_w.append(vks[cluster_idx] * vj)\n",
    "            old_vks.append(1-vks[cluster_idx])   \n",
    "    \n",
    "    #lastly, update c (alpha) and nu (Escobar & West 1995, section 6)\n",
    "    #update c\n",
    "    new_nu = np.random.beta(c + 1, len(Y))    \n",
    "    \n",
    "    pi_n_ratio = (a + k - 1) / (len(Y) * (b - np.log10(new_nu)))\n",
    "    pi_1 = pi_n_ratio / (1 + pi_n_ratio)\n",
    "    pi_2 = 1 - pi_1\n",
    "    #new_c = pi_1 * np.random.gamma(a+k, b - np.log10(new_nu)) + pi_2 * np.random.gamma(a+k-1, b-np.log10(new_nu))\n",
    "    new_c = pi_1 * np.random.gamma(a+k, b - np.log10(new_nu)) + pi_2 * np.random.gamma(a+k-1, b-np.log10(new_nu))\n",
    "    #new_c = np.random.gamma(a+k, b - np.log10(new_nu))\n",
    "    #new_c = ((c**k )* gamma(c) * np.random.gamma(0.1,10)) / (gamma(c + len(Y)))      \n",
    "    \n",
    "    #store results\n",
    "    active_ks.append(k)\n",
    "    total_ks.append(len(w))\n",
    "    total_cs.append(new_c)\n",
    "    \n",
    "    #end of gibbs cycle, update all the variables for next round\n",
    "    mus = new_mus\n",
    "    lambdas = new_lambdas\n",
    "    z = new_z \n",
    "    c = new_c\n",
    "    nu = new_nu\n",
    "    v = vks \n",
    "    w = new_w"
   ]
  },
  {
   "cell_type": "code",
   "execution_count": 52,
   "metadata": {
    "collapsed": false
   },
   "outputs": [
    {
     "data": {
      "image/png": "[encoded data removed]",
      "text/plain": [
       "<matplotlib.figure.Figure at 0x7ffa03133310>"
      ]
     },
     "metadata": {},
     "output_type": "display_data"
    }
   ],
   "source": [
    "\n",
    "plt.clf()\n",
    "#plt.scatter(np.arange(len(active_ks)), active_ks)\n",
    "\n",
    "plt.plot(np.arange(len(active_ks)), movingaverage(total_ks, 400), 'b-', label='Moving average total k')\n",
    "plt.plot(np.arange(len(active_ks)), movingaverage(active_ks, 400), 'r-', label='Moving average realized k')\n",
    "plt.xlabel('Iterations')\n",
    "plt.ylabel('Clusters')\n",
    "plt.xlim((0,2500))\n",
    "plt.legend(prop={'size':8})\n",
    "plt.title('Moving average of clusters vs. Gibbs Iterations')\n",
    "plt.savefig('var_6.png', dpi=500)\n"
   ]
  },
  {
   "cell_type": "code",
   "execution_count": 54,
   "metadata": {
    "collapsed": false,
    "scrolled": true
   },
   "outputs": [
    {
     "name": "stdout",
     "output_type": "stream",
     "text": [
      "9.92246203038\n",
      "49.4960031974\n"
     ]
    }
   ],
   "source": [
    "print np.mean(active_ks)\n",
    "print np.mean(total_ks)"
   ]
  },
  {
   "cell_type": "code",
   "execution_count": 56,
   "metadata": {
    "collapsed": false
   },
   "outputs": [
    {
     "data": {
      "image/png": "[encoded data removed]",
      "text/plain": [
       "<matplotlib.figure.Figure at 0x7ffa030a7050>"
      ]
     },
     "metadata": {},
     "output_type": "display_data"
    }
   ],
   "source": [
    "\n",
    "plt.clf()\n",
    "#plt.scatter(np.arange(len(active_ks)), active_ks)\n",
    "\n",
    "plt.plot(np.arange(len(active_ks)), movingaverage(total_cs, 400), 'r-', label='Moving average c')\n",
    "plt.xlabel('Iterations')\n",
    "plt.ylabel('c')\n",
    "plt.xlim((0,2000))\n",
    "plt.legend(prop={'size':8})\n",
    "plt.title('Moving average of c vs. Gibbs Iterations')\n",
    "plt.savefig('var_6.png', dpi=500)\n"
   ]
  },
  {
   "cell_type": "markdown",
   "metadata": {},
   "source": [
    "Looks like our algorithm is dramatically over_estimating the number of active clusters. The c values seem to be...off. \n",
    "What if we fix $c$? (Fix $c = 2$) \n",
    "\n"
   ]
  },
  {
   "cell_type": "code",
   "execution_count": null,
   "metadata": {
    "collapsed": true
   },
   "outputs": [],
   "source": []
  }
 ],
 "metadata": {
  "kernelspec": {
   "display_name": "Python 2",
   "language": "python",
   "name": "python2"
  },
  "language_info": {
   "codemirror_mode": {
    "name": "ipython",
    "version": 2
   },
   "file_extension": ".py",
   "mimetype": "text/x-python",
   "name": "python",
   "nbconvert_exporter": "python",
   "pygments_lexer": "ipython2",
   "version": "2.7.11"
  }
 },
 "nbformat": 4,
 "nbformat_minor": 0
}
